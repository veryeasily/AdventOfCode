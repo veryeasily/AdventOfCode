{
 "cells": [
  {
   "cell_type": "code",
   "execution_count": 4,
   "id": "17875c0d",
   "metadata": {},
   "outputs": [
    {
     "data": {
      "text/plain": [
       "from_string (generic function with 1 method)"
      ]
     },
     "execution_count": 4,
     "metadata": {},
     "output_type": "execute_result"
    }
   ],
   "source": [
    "function read_input()\n",
    "    strs = open(\"input3.txt\", \"r\") do f\n",
    "        readlines(f)\n",
    "    end\n",
    "    map(str -> from_string(str), strs)\n",
    "end\n",
    "\n",
    "function from_string(str::String)\n",
    "    chars = split(str, \"\")\n",
    "    return BitArray(parse(Bool, chars[i]) for i in 1:12)\n",
    "end"
   ]
  },
  {
   "cell_type": "code",
   "execution_count": 5,
   "id": "e5f0e462",
   "metadata": {},
   "outputs": [
    {
     "data": {
      "text/plain": [
       "1000-element Vector{BitVector}:\n",
       " [0, 0, 0, 0, 0, 1, 1, 0, 0, 0, 1, 0]\n",
       " [1, 0, 0, 1, 1, 1, 0, 1, 1, 0, 1, 0]\n",
       " [0, 0, 1, 1, 0, 0, 0, 1, 1, 0, 0, 1]\n",
       " [0, 1, 1, 0, 1, 0, 0, 0, 1, 0, 1, 0]\n",
       " [0, 1, 1, 0, 1, 0, 1, 0, 1, 0, 1, 1]\n",
       " [0, 0, 1, 0, 0, 1, 1, 1, 0, 1, 0, 1]\n",
       " [1, 0, 0, 1, 1, 0, 0, 0, 1, 1, 0, 1]\n",
       " [1, 0, 0, 0, 1, 0, 0, 1, 0, 0, 1, 1]\n",
       " [0, 1, 1, 1, 1, 0, 0, 0, 0, 1, 1, 0]\n",
       " [0, 1, 1, 0, 0, 0, 1, 1, 0, 1, 1, 0]\n",
       " [0, 1, 1, 1, 1, 1, 1, 1, 1, 1, 1, 0]\n",
       " [1, 0, 0, 1, 1, 1, 1, 1, 0, 0, 1, 1]\n",
       " [1, 1, 0, 0, 0, 0, 1, 0, 0, 1, 0, 1]\n",
       " ⋮\n",
       " [1, 1, 0, 1, 1, 1, 0, 0, 0, 0, 0, 1]\n",
       " [0, 1, 0, 0, 0, 1, 1, 0, 0, 1, 1, 0]\n",
       " [1, 1, 0, 0, 1, 0, 0, 1, 0, 1, 0, 0]\n",
       " [1, 1, 1, 0, 1, 1, 0, 1, 0, 1, 1, 1]\n",
       " [1, 0, 1, 1, 1, 0, 0, 1, 1, 1, 1, 0]\n",
       " [1, 1, 1, 1, 0, 0, 1, 1, 0, 0, 0, 0]\n",
       " [0, 0, 1, 1, 0, 1, 1, 1, 0, 0, 1, 0]\n",
       " [0, 1, 0, 0, 1, 0, 1, 0, 0, 0, 0, 1]\n",
       " [0, 0, 0, 1, 1, 1, 1, 0, 0, 1, 1, 0]\n",
       " [0, 1, 0, 0, 0, 0, 1, 1, 0, 0, 0, 0]\n",
       " [0, 0, 1, 0, 1, 1, 0, 1, 0, 0, 0, 0]\n",
       " [1, 1, 0, 0, 1, 1, 0, 1, 0, 1, 0, 0]"
      ]
     },
     "execution_count": 5,
     "metadata": {},
     "output_type": "execute_result"
    }
   ],
   "source": [
    "read_input()"
   ]
  },
  {
   "cell_type": "code",
   "execution_count": null,
   "id": "1e58805d",
   "metadata": {},
   "outputs": [],
   "source": []
  }
 ],
 "metadata": {
  "kernelspec": {
   "display_name": "Julia 1.7.0",
   "language": "julia",
   "name": "julia-1.7"
  },
  "language_info": {
   "file_extension": ".jl",
   "mimetype": "application/julia",
   "name": "julia",
   "version": "1.7.0"
  }
 },
 "nbformat": 4,
 "nbformat_minor": 5
}
