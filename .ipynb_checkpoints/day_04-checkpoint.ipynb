{
 "cells": [
  {
   "cell_type": "code",
   "execution_count": 4,
   "id": "88429d51",
   "metadata": {},
   "outputs": [
    {
     "data": {
      "text/plain": [
       "read_input (generic function with 1 method)"
      ]
     },
     "execution_count": 4,
     "metadata": {},
     "output_type": "execute_result"
    }
   ],
   "source": [
    "function read_input()\n",
    "    strs = open(\"input4_board.txt\", \"r\") do f\n",
    "        readlines(f)\n",
    "    end\n",
    "    return strs\n",
    "end"
   ]
  },
  {
   "cell_type": "code",
   "execution_count": 5,
   "id": "fe92e800",
   "metadata": {},
   "outputs": [
    {
     "data": {
      "text/plain": [
       "599-element Vector{String}:\n",
       " \"97 62 17  5 79\"\n",
       " \" 1 99 98 80 84\"\n",
       " \"44 16  2 40 94\"\n",
       " \"68 95 49 32  8\"\n",
       " \"38 35 23 89  3\"\n",
       " \"\"\n",
       " \"48 53 59 99 43\"\n",
       " \"77 24 62 50 27\"\n",
       " \"28  8 10 86 18\"\n",
       " \"96  9 92 66 67\"\n",
       " \"20 55 87 52 31\"\n",
       " \"\"\n",
       " \"79 51 62 33  5\"\n",
       " ⋮\n",
       " \"\"\n",
       " \"85 63 62 11 38\"\n",
       " \"53 29  2  8 13\"\n",
       " \"87 64 31 69 58\"\n",
       " \"88 84 17  3 26\"\n",
       " \" 5 32 23 33 39\"\n",
       " \"\"\n",
       " \"25  8 81 29 95\"\n",
       " \"65 56 86 34 17\"\n",
       " \"38 66 85 43 26\"\n",
       " \"39 12 70 32 19\"\n",
       " \"49 68 10  4 13\""
      ]
     },
     "execution_count": 5,
     "metadata": {},
     "output_type": "execute_result"
    }
   ],
   "source": [
    "read_input()"
   ]
  },
  {
   "cell_type": "code",
   "execution_count": null,
   "id": "0d382162",
   "metadata": {},
   "outputs": [],
   "source": []
  }
 ],
 "metadata": {
  "kernelspec": {
   "display_name": "Julia 1.7.0",
   "language": "julia",
   "name": "julia-1.7"
  },
  "language_info": {
   "file_extension": ".jl",
   "mimetype": "application/julia",
   "name": "julia",
   "version": "1.7.0"
  }
 },
 "nbformat": 4,
 "nbformat_minor": 5
}
