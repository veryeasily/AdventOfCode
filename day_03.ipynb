{
 "cells": [
  {
   "cell_type": "code",
   "execution_count": 1,
   "id": "88429d51",
   "metadata": {},
   "outputs": [
    {
     "data": {
      "text/plain": [
       "bitarr_to_int (generic function with 1 method)"
      ]
     },
     "execution_count": 1,
     "metadata": {},
     "output_type": "execute_result"
    }
   ],
   "source": [
    "using StatsBase\n",
    "\n",
    "function read_input()\n",
    "    strs = open(\"input3.txt\", \"r\") do f\n",
    "        readlines(f)\n",
    "    end\n",
    "    map(str -> from_string(str), strs)\n",
    "end\n",
    "\n",
    "function from_string(str::String)\n",
    "    chars = split(str, \"\")\n",
    "    return BitArray(parse(Bool, chars[i]) for i in 1:12)\n",
    "end\n",
    "\n",
    "function mode_of_list(list::Vector{Bool})\n",
    "    total = sum(list)\n",
    "    if total >= length(list) / 2.0\n",
    "        return true\n",
    "    else\n",
    "        return false\n",
    "    end\n",
    "end\n",
    "\n",
    "function find_oxygen(list::Vector{BitVector}, n::Int=1)\n",
    "    value = mode_of_list([x[n] for x in list])\n",
    "    result = [x for x in list if x[n] == value]\n",
    "    @show length(result)\n",
    "    if length(result) == 1\n",
    "        return result[1]\n",
    "    else\n",
    "        return find_oxygen(result, n+1)\n",
    "    end\n",
    "end\n",
    "\n",
    "\n",
    "function find_co2(list::Vector{BitVector}, n::Int=1)\n",
    "    value = mode_of_list([x[n] for x in list])\n",
    "    result = [x for x in list if x[n] != value]\n",
    "    @show length(result)\n",
    "    if length(result) == 1\n",
    "        return result[1]\n",
    "    else\n",
    "        return find_co2(result, n+1)\n",
    "    end\n",
    "end\n",
    "\n",
    "# From https://discourse.julialang.org/t/parse-an-array-of-bits-bitarray-to-an-integer/42361\n",
    "function bitarr_to_int(arr)\n",
    "    return sum(arr .* (2 .^ collect(length(arr)-1:-1:0)))\n",
    "end"
   ]
  },
  {
   "cell_type": "code",
   "execution_count": 2,
   "id": "fe92e800",
   "metadata": {},
   "outputs": [
    {
     "name": "stdout",
     "output_type": "stream",
     "text": [
      "length(result) = 504\n",
      "length(result) = 264\n",
      "length(result) = 134\n",
      "length(result) = 71\n",
      "length(result) = 37\n",
      "length(result) = 19\n",
      "length(result) = 10\n",
      "length(result) = 7\n",
      "length(result) = 4\n",
      "length(result) = 3\n",
      "length(result) = 2\n",
      "length(result) = 1\n"
     ]
    },
    {
     "data": {
      "text/plain": [
       "2397"
      ]
     },
     "execution_count": 2,
     "metadata": {},
     "output_type": "execute_result"
    }
   ],
   "source": [
    "result = find_oxygen(read_input())\n",
    "bitarr_to_int(result)"
   ]
  },
  {
   "cell_type": "code",
   "execution_count": 3,
   "id": "e042a9ce",
   "metadata": {},
   "outputs": [
    {
     "name": "stdout",
     "output_type": "stream",
     "text": [
      "length(result) = 496\n",
      "length(result) = 240\n",
      "length(result) = 117\n",
      "length(result) = 52\n",
      "length(result) = 25\n",
      "length(result) = 11\n",
      "length(result) = 4\n",
      "length(result) = 2\n",
      "length(result) = 1\n"
     ]
    },
    {
     "data": {
      "text/plain": [
       "673"
      ]
     },
     "execution_count": 3,
     "metadata": {},
     "output_type": "execute_result"
    }
   ],
   "source": [
    "list = read_input()\n",
    "bitarr_to_int(find_co2(list))"
   ]
  },
  {
   "cell_type": "code",
   "execution_count": 4,
   "id": "2d286ed1",
   "metadata": {},
   "outputs": [
    {
     "data": {
      "text/plain": [
       "1613181"
      ]
     },
     "execution_count": 4,
     "metadata": {},
     "output_type": "execute_result"
    }
   ],
   "source": [
    "2397 * 673"
   ]
  },
  {
   "cell_type": "code",
   "execution_count": null,
   "id": "0d382162",
   "metadata": {},
   "outputs": [],
   "source": []
  }
 ],
 "metadata": {
  "kernelspec": {
   "display_name": "Julia 1.7.0",
   "language": "julia",
   "name": "julia-1.7"
  },
  "language_info": {
   "file_extension": ".jl",
   "mimetype": "application/julia",
   "name": "julia",
   "version": "1.7.0"
  }
 },
 "nbformat": 4,
 "nbformat_minor": 5
}
